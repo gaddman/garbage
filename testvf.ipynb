{
 "cells": [
  {
   "cell_type": "markdown",
   "metadata": {},
   "source": [
    "# Here's a wee test"
   ]
  },
  {
   "cell_type": "code",
   "execution_count": 5,
   "metadata": {},
   "outputs": [
    {
     "name": "stdout",
     "output_type": "stream",
     "text": [
      "Is your favourite ISP Vodafone?\n",
      "Is your favourite ISP Spark?\n",
      "Is your favourite ISP 2degrees?\n",
      "Is your favourite ISP Trustpower?\n"
     ]
    }
   ],
   "source": [
    "isplist = [\"Vodafone\", \"Spark\", \"2degrees\",\"Trustpower\"]\n",
    "for isp in isplist:\n",
    "    print(\"Is your favourite ISP {}?\".format(isp))\n"
   ]
  }
 ],
 "metadata": {
  "kernelspec": {
   "display_name": "Python 3",
   "language": "python",
   "name": "python3"
  },
  "language_info": {
   "codemirror_mode": {
    "name": "ipython",
    "version": 3
   },
   "file_extension": ".py",
   "mimetype": "text/x-python",
   "name": "python",
   "nbconvert_exporter": "python",
   "pygments_lexer": "ipython3",
   "version": "3.6.7"
  }
 },
 "nbformat": 4,
 "nbformat_minor": 2
}
